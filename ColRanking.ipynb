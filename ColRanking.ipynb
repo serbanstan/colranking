{
 "cells": [
  {
   "cell_type": "markdown",
   "metadata": {},
   "source": [
    "### Generating the dataset"
   ]
  },
  {
   "cell_type": "code",
   "execution_count": 1,
   "metadata": {
    "collapsed": true
   },
   "outputs": [],
   "source": [
    "using PyPlot"
   ]
  },
  {
   "cell_type": "code",
   "execution_count": 2,
   "metadata": {
    "collapsed": false
   },
   "outputs": [],
   "source": [
    "srand(1)\n",
    "\n",
    "# number of users\n",
    "d1 = 20;\n",
    "\n",
    "# number of items\n",
    "d2 = 30;\n",
    "\n",
    "# number of queries\n",
    "n = 5000;"
   ]
  },
  {
   "cell_type": "code",
   "execution_count": 3,
   "metadata": {
    "collapsed": false
   },
   "outputs": [],
   "source": [
    "# generate the hidden ratings\n",
    "ThetaS = rand(d1,1) * rand(1,d2)\n",
    "\n",
    "# Need to have the sum of rows equaling 0\n",
    "for i = 1:d1\n",
    "    ThetaS[i,:] -= mean(ThetaS[i,:])\n",
    "end\n",
    "\n",
    "# Need to make the Frobenius norm <= 1\n",
    "ThetaS = ThetaS / vecnorm(ThetaS);"
   ]
  },
  {
   "cell_type": "code",
   "execution_count": 4,
   "metadata": {
    "collapsed": false
   },
   "outputs": [],
   "source": [
    "y = []\n",
    "X = []\n",
    "\n",
    "for i = 1:n\n",
    "    Xi = zeros(d1, d2)\n",
    "    \n",
    "    lin = rand(1:d1)\n",
    "    c1 = rand(1:d2)\n",
    "    c2 = rand(1:d2)\n",
    "    while c2 == c1\n",
    "        c2 = rand(1:d2)\n",
    "    end\n",
    "    \n",
    "    Xi[lin,c1] = 1\n",
    "    Xi[lin,c2] = -1\n",
    "    Xi = Xi * sqrt(d1 * d2)\n",
    "    \n",
    "    push!(X, Xi)\n",
    "    \n",
    "    if ThetaS[lin,c1] > ThetaS[lin,c2]\n",
    "        push!(y, 1)\n",
    "    else\n",
    "        push!(y, 0)\n",
    "    end\n",
    "end"
   ]
  },
  {
   "cell_type": "markdown",
   "metadata": {},
   "source": [
    "### Helper functions"
   ]
  },
  {
   "cell_type": "code",
   "execution_count": 5,
   "metadata": {
    "collapsed": false
   },
   "outputs": [
    {
     "data": {
      "text/plain": [
       "nucNorm (generic function with 1 method)"
      ]
     },
     "execution_count": 5,
     "metadata": {},
     "output_type": "execute_result"
    }
   ],
   "source": [
    "function nucNorm(A)\n",
    "    return sum(svd(A)[2])\n",
    "end"
   ]
  },
  {
   "cell_type": "code",
   "execution_count": 6,
   "metadata": {
    "collapsed": false
   },
   "outputs": [
    {
     "data": {
      "text/plain": [
       "adjust (generic function with 1 method)"
      ]
     },
     "execution_count": 6,
     "metadata": {},
     "output_type": "execute_result"
    }
   ],
   "source": [
    "# make sure the matrix's rows are centered\n",
    "\n",
    "function adjust(X)\n",
    "    ans = copy(X)\n",
    "    \n",
    "    for i = 1:size(X)[1]\n",
    "        ans[i,:] -= mean(ans[i,:])\n",
    "    end\n",
    "    \n",
    "    return ans\n",
    "end"
   ]
  },
  {
   "cell_type": "code",
   "execution_count": 7,
   "metadata": {
    "collapsed": false
   },
   "outputs": [
    {
     "data": {
      "text/plain": [
       "obj (generic function with 1 method)"
      ]
     },
     "execution_count": 7,
     "metadata": {},
     "output_type": "execute_result"
    }
   ],
   "source": [
    "# The objective function\n",
    "\n",
    "function obj(Theta)\n",
    "    ans = 0\n",
    "    \n",
    "    for i = 1:n\n",
    "        ans = ans + log(1 + e^(trace(Theta' * X[i]))) - y[i] * trace(Theta' * X[i])\n",
    "    end\n",
    "    \n",
    "    return ans / n\n",
    "end"
   ]
  },
  {
   "cell_type": "code",
   "execution_count": 8,
   "metadata": {
    "collapsed": false
   },
   "outputs": [
    {
     "data": {
      "text/plain": [
       "deltaF (generic function with 1 method)"
      ]
     },
     "execution_count": 8,
     "metadata": {},
     "output_type": "execute_result"
    }
   ],
   "source": [
    "# Compute the derivative of the objective loss\n",
    "\n",
    "function deltaF(Theta)\n",
    "    \n",
    "    ans = zeros(d1,d2)\n",
    "    \n",
    "    for i = 1:n\n",
    "        t1 = 1 / (1 + e^trace(Theta' * X[i]))\n",
    "        t2 = e^trace(Theta' * X[i]) * X[i]\n",
    "        t3 = y[i] * X[i]\n",
    "        \n",
    "        ans = ans + t1 * t2 - t3\n",
    "    end\n",
    "    \n",
    "    return ans / n\n",
    "    \n",
    "end"
   ]
  },
  {
   "cell_type": "code",
   "execution_count": 9,
   "metadata": {
    "collapsed": false
   },
   "outputs": [
    {
     "data": {
      "text/plain": [
       "checkKKT (generic function with 1 method)"
      ]
     },
     "execution_count": 9,
     "metadata": {},
     "output_type": "execute_result"
    }
   ],
   "source": [
    "function checkKKT(lamb, Theta)\n",
    "    tot = 0\n",
    "    \n",
    "    for i = 1:n\n",
    "        tot = (e ^ trace(Theta' * X[i]) / (1 + e^trace(Theta' * X[i])) - y[i]) * X[i]\n",
    "    end\n",
    "    \n",
    "    tot = tot / n\n",
    "    \n",
    "    U,S,V = svd(Theta)\n",
    "    k = rank(Theta)\n",
    "    U = U[:,1:k]\n",
    "    V = V[:,1:k]\n",
    "    \n",
    "    tot = tot + lamb * U * V'\n",
    "    \n",
    "    tot = tot / lamb\n",
    "    \n",
    "    println(\"The norm is \", norm(tot))\n",
    "    \n",
    "    println(U' * tot)\n",
    "    \n",
    "    println(tot * V)\n",
    "    \n",
    "end"
   ]
  },
  {
   "cell_type": "code",
   "execution_count": 10,
   "metadata": {
    "collapsed": false
   },
   "outputs": [],
   "source": [
    "# # The proximal function\n",
    "# # return the matrix X that minimizes lambda * ||X||_nuc + 1/(2 lambda_k) || X - V ||_F^2\n",
    "# # equivalent to (lamda*lambda_k) ||X||_nuc + 1/2 || X - V ||_F^2\n",
    "\n",
    "# function prox(lambda, V)\n",
    "    \n",
    "#     ans = zeros(d1,d2)\n",
    "    \n",
    "#     _,S,_ = svd(V)\n",
    "#     S = max(S - lambda, 0)\n",
    "    \n",
    "#     for i = 1:length(S)\n",
    "#         ans[i,i] = S[i]\n",
    "#     end\n",
    "    \n",
    "#     return adjust(ans)\n",
    "    \n",
    "# end"
   ]
  },
  {
   "cell_type": "code",
   "execution_count": 11,
   "metadata": {
    "collapsed": false
   },
   "outputs": [
    {
     "data": {
      "text/plain": [
       "proxObj (generic function with 1 method)"
      ]
     },
     "execution_count": 11,
     "metadata": {},
     "output_type": "execute_result"
    }
   ],
   "source": [
    "# The proximal objective\n",
    "\n",
    "function proxObj(lambda, X, V)\n",
    "    return lambda * nucNorm(X) + 1 / 2 * norm(X - V)^2\n",
    "end"
   ]
  },
  {
   "cell_type": "code",
   "execution_count": 12,
   "metadata": {
    "collapsed": false
   },
   "outputs": [
    {
     "data": {
      "text/plain": [
       "prox (generic function with 1 method)"
      ]
     },
     "execution_count": 12,
     "metadata": {},
     "output_type": "execute_result"
    }
   ],
   "source": [
    "# The proximal function\n",
    "# return the matrix X that minimizes lambda * ||X||_nuc + 1/(2 lambda_k) || X - V ||_F^2\n",
    "# equivalent to (lamda * lambda_k) ||X||_nuc + 1/2 || X - V ||_F^2\n",
    "\n",
    "function prox(lambda, V)\n",
    "    \n",
    "    X = adjust(rand(d1,d2))\n",
    "    Xmin = copy(X)\n",
    "    \n",
    "    step = 0.05\n",
    "    eps = 1e-6\n",
    "    numSteps = 0\n",
    "    \n",
    "    while numSteps < 500\n",
    "        numSteps += 1\n",
    "    \n",
    "        # a subgradient of lambda * ||X||_nuc is AB' where X = ASB'\n",
    "        A,_,B = svd(X)\n",
    "        k = rank(X)\n",
    "        A = A[:,1:k]\n",
    "        B = B[:,1:k]\n",
    "\n",
    "        t1 = lambda * A * B'\n",
    "\n",
    "        # the derivative of 1 / 2 || X - V ||_2^2 is (X - V)\n",
    "        t2 = X - V\n",
    "        \n",
    "        newX = X - step * (t1 + t2)\n",
    "        newX = adjust(newX)\n",
    "        \n",
    "        if proxObj(lambda, newX, V) < eps\n",
    "            return newX\n",
    "        end\n",
    "        \n",
    "        if proxObj(lambda, newX, V) < proxObj(lambda, Xmin, V)\n",
    "            Xmin = copy(newX)\n",
    "        end\n",
    "        \n",
    "        X = copy(newX)\n",
    "    end\n",
    "    \n",
    "    return Xmin\n",
    "    \n",
    "end"
   ]
  },
  {
   "cell_type": "markdown",
   "metadata": {},
   "source": [
    "##### As a sanity check, make sure that our gradient steps indeed decreases obj loss"
   ]
  },
  {
   "cell_type": "code",
   "execution_count": 13,
   "metadata": {
    "collapsed": false
   },
   "outputs": [
    {
     "name": "stdout",
     "output_type": "stream",
     "text": [
      "Hidden loss 0.3995600113543057\n",
      "Current loss 4.680409014624238\n",
      "Loss after 30 steps: 3.4460656365409013\n",
      "Loss after 60 steps: 2.4423837000428494\n",
      "Loss after 90 steps: 1.6707948927679144\n",
      "Loss after 120 steps: 1.1197325795344377\n",
      "Loss after 150 steps: 0.7556108161422121\n"
     ]
    }
   ],
   "source": [
    "Theta = adjust(rand(d1,d2))\n",
    "\n",
    "println(\"Hidden loss \", obj(ThetaS))\n",
    "println(\"Current loss \", obj(Theta))\n",
    "\n",
    "for stp = 1:150\n",
    "    alpha = 0.05\n",
    "\n",
    "    newTheta = Theta - alpha * deltaF(Theta)\n",
    "    newTheta = adjust(newTheta)\n",
    "\n",
    "    if stp % 30 == 0\n",
    "        println(\"Loss after \", stp, \" steps: \", obj(newTheta))\n",
    "    end\n",
    "    \n",
    "    Theta = copy(newTheta)\n",
    "end"
   ]
  },
  {
   "cell_type": "markdown",
   "metadata": {
    "collapsed": true
   },
   "source": [
    "#### Let's test out the algorithm"
   ]
  },
  {
   "cell_type": "code",
   "execution_count": 14,
   "metadata": {
    "collapsed": false
   },
   "outputs": [
    {
     "name": "stdout",
     "output_type": "stream",
     "text": [
      "f + g = 6.016412412784899\n",
      "f = 1.40783168972114\n",
      "g = 4.608580723063758\n",
      "\n",
      "f + g = 1.335106955178522\n",
      "f = 0.57191565852522\n",
      "g = 0.763191296653302\n",
      "\n",
      "f + g = 0.7064283666461316\n",
      "f = 0.5209119863739647\n",
      "g = 0.1855163802721669\n",
      "\n",
      "f + g = 0.6977917439983071\n",
      "f = 0.5457980558312433\n",
      "g = 0.15199368816706382\n",
      "\n",
      "f + g = 0.6960924940342548\n",
      "f = 0.5643485398409689\n",
      "g = 0.13174395419328594\n",
      "\n",
      "f + g = 0.6956591796420228\n",
      "f = 0.5731952670117678\n",
      "g = 0.12246391263025504\n",
      "\n",
      "f + g = 0.6954712116898731\n",
      "f = 0.5797801948736149\n",
      "g = 0.11569101681625824\n",
      "\n",
      "f + g = 0.6957228494354\n",
      "f = 0.5825279191397408\n",
      "g = 0.11319493029565919\n",
      "\n",
      "f + g = 0.6955503933502774\n",
      "f = 0.5845064501539858\n",
      "g = 0.11104394319629146\n",
      "\n",
      "f + g = 0.695633167195309\n",
      "f = 0.5865789371231419\n",
      "g = 0.10905423007216707\n",
      "\n",
      "f + g = 0.6954140224268659\n",
      "f = 0.586664125497637\n",
      "g = 0.10874989692922882\n",
      "\n",
      "f + g = 0.6955446113787879\n",
      "f = 0.5872510558893326\n",
      "g = 0.10829355548945527\n",
      "\n",
      "f + g = 0.6957562537629489\n",
      "f = 0.5867202672094999\n",
      "g = 0.10903598655344905\n",
      "\n",
      "f + g = 0.6956042167109585\n",
      "f = 0.5857829894476632\n",
      "g = 0.10982122726329532\n",
      "\n",
      "f + g = 0.6956444623205585\n",
      "f = 0.5871581255597305\n",
      "g = 0.1084863367608281\n",
      "\n",
      "f + g = 0.6952157490847535\n",
      "f = 0.586881576382631\n",
      "g = 0.10833417270212246\n",
      "\n",
      "f + g = 0.6954993256556259\n",
      "f = 0.5872971424003349\n",
      "g = 0.1082021832552909\n",
      "\n",
      "f + g = 0.6954402704050878\n",
      "f = 0.5868051936974816\n",
      "g = 0.10863507670760618\n",
      "\n",
      "f + g = 0.6952714057461413\n",
      "f = 0.5856141345241587\n",
      "g = 0.10965727122198263\n",
      "\n",
      "f + g = 0.6954952987575003\n",
      "f = 0.5861502636224915\n",
      "g = 0.10934503513500879\n",
      "\n",
      "f + g = 0.6953364388727571\n",
      "f = 0.5874540647360874\n",
      "g = 0.10788237413666969\n",
      "\n",
      "f + g = 0.6954808472853573\n",
      "f = 0.5872898133538679\n",
      "g = 0.10819103393148938\n",
      "\n",
      "f + g = 0.694818077725575\n",
      "f = 0.5912254753242426\n",
      "g = 0.10359260240133239\n",
      "\n",
      "f + g = 0.6955149715402544\n",
      "f = 0.5873079241691079\n",
      "g = 0.10820704737114646\n",
      "\n",
      "f + g = 0.6954917932568473\n",
      "f = 0.5855842838995644\n",
      "g = 0.10990750935728287\n",
      "\n",
      "f + g = 0.6950184936938968\n",
      "f = 0.5889358981584317\n",
      "g = 0.10608259553546509\n",
      "\n",
      "f + g = 0.6956544282473345\n",
      "f = 0.5874627553761756\n",
      "g = 0.10819167287115877\n",
      "\n",
      "f + g = 0.69554688853609\n",
      "f = 0.5859515703559007\n",
      "g = 0.10959531818018932\n",
      "\n",
      "f + g = 0.6956116965455108\n",
      "f = 0.5859533461620569\n",
      "g = 0.1096583503834539\n",
      "\n",
      "f + g = 0.6952468885634837\n",
      "f = 0.5869706055589169\n",
      "g = 0.1082762830045668\n",
      "\n"
     ]
    }
   ],
   "source": [
    "curTheta = adjust(rand(d1,d2))\n",
    "lambda = 0.5   # the regularization parameter\n",
    "lambda_k = .1   # the step size\n",
    "\n",
    "LF = []\n",
    "objVal = []\n",
    "\n",
    "for steps = 1:300\n",
    "    # first, go in the direction of f\n",
    "    V = curTheta - lambda_k * deltaF(curTheta)\n",
    "    newTheta = prox(lambda * lambda_k, V)\n",
    "#     newTheta = adjust(V)\n",
    "    \n",
    "#     checkKKT(lambda, newTheta)\n",
    "#     println()\n",
    "    \n",
    "    if steps % 10 == 0\n",
    "        println(\"f + g = \", obj(curTheta) + lambda * nucNorm(curTheta))\n",
    "        println(\"f = \", obj(curTheta))\n",
    "        println(\"g = \", lambda * nucNorm(curTheta))\n",
    "        println()\n",
    "    end\n",
    "    \n",
    "    push!(objVal, obj(newTheta) + lambda * nucNorm(newTheta))\n",
    "    push!(LF, vecnorm(ThetaS - newTheta/vecnorm(newTheta))^2)\n",
    "    \n",
    "    curTheta = copy(newTheta)\n",
    "end"
   ]
  },
  {
   "cell_type": "code",
   "execution_count": 15,
   "metadata": {
    "collapsed": false
   },
   "outputs": [
    {
     "data": {
      "image/png": "[encoded data removed]",
      "text/plain": [
       "PyPlot.Figure(PyObject <matplotlib.figure.Figure object at 0x324aecc90>)"
      ]
     },
     "metadata": {},
     "output_type": "display_data"
    },
    {
     "data": {
      "text/plain": [
       "1-element Array{Any,1}:\n",
       " PyObject <matplotlib.lines.Line2D object at 0x324d98fd0>"
      ]
     },
     "execution_count": 15,
     "metadata": {},
     "output_type": "execute_result"
    }
   ],
   "source": [
    "# plotting the objective \n",
    "plot(objVal)"
   ]
  },
  {
   "cell_type": "code",
   "execution_count": 16,
   "metadata": {
    "collapsed": false
   },
   "outputs": [
    {
     "data": {
      "image/png": "[encoded data removed]",
      "text/plain": [
       "PyPlot.Figure(PyObject <matplotlib.figure.Figure object at 0x324dfee50>)"
      ]
     },
     "metadata": {},
     "output_type": "display_data"
    },
    {
     "data": {
      "text/plain": [
       "1-element Array{Any,1}:\n",
       " PyObject <matplotlib.lines.Line2D object at 0x324f648d0>"
      ]
     },
     "execution_count": 16,
     "metadata": {},
     "output_type": "execute_result"
    }
   ],
   "source": [
    "# plotting the loss function\n",
    "plot(LF)"
   ]
  },
  {
   "cell_type": "code",
   "execution_count": null,
   "metadata": {
    "collapsed": true
   },
   "outputs": [],
   "source": []
  },
  {
   "cell_type": "code",
   "execution_count": null,
   "metadata": {
    "collapsed": true
   },
   "outputs": [],
   "source": []
  },
  {
   "cell_type": "code",
   "execution_count": 17,
   "metadata": {
    "collapsed": true
   },
   "outputs": [],
   "source": [
    "# Q1: What does y = 0 give us in terms of information?"
   ]
  }
 ],
 "metadata": {
  "anaconda-cloud": {},
  "kernelspec": {
   "display_name": "Julia 0.5.0",
   "language": "julia",
   "name": "julia-0.5"
  },
  "language_info": {
   "file_extension": ".jl",
   "mimetype": "application/julia",
   "name": "julia",
   "version": "0.5.0"
  }
 },
 "nbformat": 4,
 "nbformat_minor": 1
}
