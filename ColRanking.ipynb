{
 "cells": [
  {
   "cell_type": "markdown",
   "metadata": {},
   "source": [
    "### Generating the dataset"
   ]
  },
  {
   "cell_type": "code",
   "execution_count": 1,
   "metadata": {
    "collapsed": false
   },
   "outputs": [],
   "source": [
    "srand(1)\n",
    "\n",
    "# number of users\n",
    "d1 = 10;\n",
    "\n",
    "# number of items\n",
    "d2 = 15;\n",
    "\n",
    "# number of queries\n",
    "n = 5000;"
   ]
  },
  {
   "cell_type": "code",
   "execution_count": 2,
   "metadata": {
    "collapsed": false
   },
   "outputs": [],
   "source": [
    "# generate the hidden ratings\n",
    "ThetaS = rand(d1,3) * rand(3,d2)\n",
    "\n",
    "# Need to have the sum of rows equaling 0\n",
    "for i = 1:d1\n",
    "    ThetaS[i,:] -= mean(ThetaS[i,:])\n",
    "end\n",
    "\n",
    "# Need to make the Frobenius norm < 1\n",
    "ThetaS = ThetaS / vecnorm(ThetaS);"
   ]
  },
  {
   "cell_type": "code",
   "execution_count": 3,
   "metadata": {
    "collapsed": false
   },
   "outputs": [],
   "source": [
    "y = []\n",
    "X = []\n",
    "\n",
    "for i = 1:n\n",
    "    Xi = zeros(d1, d2)\n",
    "    \n",
    "    lin = rand(1:d1)\n",
    "    c1 = rand(1:d2)\n",
    "    c2 = rand(1:d2)\n",
    "    while c2 == c1\n",
    "        c2 = rand(1:d2)\n",
    "    end\n",
    "    \n",
    "    Xi[lin,c1] = 1\n",
    "    Xi[lin,c2] = -1\n",
    "    Xi = Xi * sqrt(d1 * d2)\n",
    "    \n",
    "    push!(X, Xi)\n",
    "    \n",
    "    if ThetaS[lin,c1] > ThetaS[lin,c2]\n",
    "        push!(y, 1)\n",
    "    else\n",
    "        push!(y, 0)\n",
    "    end\n",
    "end"
   ]
  },
  {
   "cell_type": "markdown",
   "metadata": {},
   "source": [
    "### Helper functions"
   ]
  },
  {
   "cell_type": "code",
   "execution_count": 4,
   "metadata": {
    "collapsed": false
   },
   "outputs": [
    {
     "data": {
      "text/plain": [
       "nucNorm (generic function with 1 method)"
      ]
     },
     "execution_count": 4,
     "metadata": {},
     "output_type": "execute_result"
    }
   ],
   "source": [
    "function nucNorm(A)\n",
    "    return sum(svd(A)[2])\n",
    "end"
   ]
  },
  {
   "cell_type": "code",
   "execution_count": 5,
   "metadata": {
    "collapsed": false
   },
   "outputs": [
    {
     "data": {
      "text/plain": [
       "adjust (generic function with 1 method)"
      ]
     },
     "execution_count": 5,
     "metadata": {},
     "output_type": "execute_result"
    }
   ],
   "source": [
    "# make sure the matrix is centered and with norm < 1\n",
    "\n",
    "function adjust(X)\n",
    "    ans = copy(X)\n",
    "    \n",
    "    for i = 1:d1\n",
    "        ans[i,:] -= mean(ans[i,:])\n",
    "    end\n",
    "    \n",
    "    return ans / vecnorm(ans)\n",
    "end"
   ]
  },
  {
   "cell_type": "code",
   "execution_count": 6,
   "metadata": {
    "collapsed": false
   },
   "outputs": [
    {
     "data": {
      "text/plain": [
       "lossObj (generic function with 1 method)"
      ]
     },
     "execution_count": 6,
     "metadata": {},
     "output_type": "execute_result"
    }
   ],
   "source": [
    "# The objective loss function\n",
    "\n",
    "function lossObj(Theta)\n",
    "    ans = 0\n",
    "    \n",
    "    for i = 1:n\n",
    "        ans = ans + log(1 + e^(trace(Theta' * X[i]))) - y[i] * trace(Theta' * X[i])\n",
    "    end\n",
    "    \n",
    "    return ans / n\n",
    "end"
   ]
  },
  {
   "cell_type": "code",
   "execution_count": 7,
   "metadata": {
    "collapsed": false
   },
   "outputs": [
    {
     "data": {
      "text/plain": [
       "deltaF (generic function with 1 method)"
      ]
     },
     "execution_count": 7,
     "metadata": {},
     "output_type": "execute_result"
    }
   ],
   "source": [
    "# Compute the derivative of the objective loss\n",
    "\n",
    "function deltaF(Theta)\n",
    "    \n",
    "    ans = zeros(d1,d2)\n",
    "    \n",
    "    for i = 1:n\n",
    "        t1 = 1 / (1 + e^trace(Theta' * X[i]))\n",
    "        t2 = e^trace(Theta' * X[i]) * X[i]\n",
    "        t3 = y[i] * X[i]\n",
    "        \n",
    "        ans = ans + t1 * t2 - t3\n",
    "    end\n",
    "    \n",
    "    return ans / n\n",
    "    \n",
    "end"
   ]
  },
  {
   "cell_type": "code",
   "execution_count": 8,
   "metadata": {
    "collapsed": false
   },
   "outputs": [
    {
     "data": {
      "text/plain": [
       "proxObj (generic function with 1 method)"
      ]
     },
     "execution_count": 8,
     "metadata": {},
     "output_type": "execute_result"
    }
   ],
   "source": [
    "# The proximal objective\n",
    "\n",
    "function proxObj(lambda, X, V)\n",
    "    return lambda * nucNorm(X) + 1 / 2 * vecnorm(X - V)^2\n",
    "end"
   ]
  },
  {
   "cell_type": "code",
   "execution_count": 9,
   "metadata": {
    "collapsed": false
   },
   "outputs": [],
   "source": [
    "# # The proximal function\n",
    "# # return the matrix X that minimizes lambda * ||X||_nuc + 1/(2 lambda_k) || X - V ||_F^2\n",
    "# # equivalent to (lamda*lambda_k) ||X||_nuc + 1/2 || X - V ||_F^2\n",
    "\n",
    "# function prox(lambda, V)\n",
    "    \n",
    "#     ans = zeros(d1,d2)\n",
    "    \n",
    "#     _,S,_ = svd(V)\n",
    "#     S = max(S - lambda, 0)\n",
    "    \n",
    "#     for i = 1:length(S)\n",
    "#         ans[i,i] = S[i]\n",
    "#     end\n",
    "    \n",
    "#     return adjust(ans)\n",
    "    \n",
    "# end"
   ]
  },
  {
   "cell_type": "code",
   "execution_count": 10,
   "metadata": {
    "collapsed": false
   },
   "outputs": [
    {
     "data": {
      "text/plain": [
       "prox (generic function with 1 method)"
      ]
     },
     "execution_count": 10,
     "metadata": {},
     "output_type": "execute_result"
    }
   ],
   "source": [
    "# The proximal function\n",
    "# return the matrix X that minimizes lambda * ||X||_nuc + 1/(2 lambda_k) || X - V ||_F^2\n",
    "# equivalent to (lamda * lambda_k) ||X||_nuc + 1/2 || X - V ||_F^2\n",
    "\n",
    "function prox(lambda, V)\n",
    "    \n",
    "    X = adjust(rand(d1,d2))\n",
    "    Xmin = copy(X)\n",
    "    \n",
    "    step = 0.05\n",
    "    eps = 1e-6\n",
    "    numSteps = 0\n",
    "    \n",
    "    while numSteps < 500\n",
    "        numSteps += 1\n",
    "    \n",
    "        # a subgradient of lambda * ||X||_nuc is AB' where X = ASB'\n",
    "        A,_,B = svd(X)\n",
    "        t1 = lambda * A * B'\n",
    "\n",
    "        # the derivative of 1 / 2 || X - V ||_2^2 is (X - V)\n",
    "        t2 = X - V\n",
    "        \n",
    "        newX = X - step * (t1 + t2)\n",
    "        newX = adjust(newX)\n",
    "        \n",
    "        if proxObj(lambda, X, V) < eps\n",
    "            return X\n",
    "        end\n",
    "        \n",
    "        if proxObj(lambda, X, V) < proxObj(lambda, Xmin, V)\n",
    "            Xmin = copy(X)\n",
    "        end\n",
    "        \n",
    "        X = copy(newX)\n",
    "    end\n",
    "    \n",
    "    return Xmin\n",
    "    \n",
    "end"
   ]
  },
  {
   "cell_type": "markdown",
   "metadata": {},
   "source": [
    "##### As a sanity check, make sure that our gradient steps indeed decreases obj loss"
   ]
  },
  {
   "cell_type": "code",
   "execution_count": 11,
   "metadata": {
    "collapsed": false
   },
   "outputs": [
    {
     "name": "stdout",
     "output_type": "stream",
     "text": [
      "Hidden loss 0.3392539122124946\n",
      "Current loss 0.9000772658412434\n",
      "Loss after 10 steps: 0.7085470429419394\n",
      "Loss after 20 steps: 0.5563863205198784\n",
      "Loss after 30 steps: 0.454519457622993\n",
      "Loss after 40 steps: 0.39227566303563854\n",
      "Loss after 50 steps: 0.3554233611865242\n",
      "Loss after 60 steps: 0.33375098161016875\n",
      "Loss after 70 steps: 0.3209949635369063\n",
      "Loss after 80 steps: 0.3134672281778019\n",
      "Loss after 90 steps: 0.30901221213858004\n",
      "Loss after 100 steps: 0.3063682436901998\n"
     ]
    }
   ],
   "source": [
    "Theta = adjust(rand(d1,d2))\n",
    "\n",
    "println(\"Hidden loss \", lossObj(ThetaS))\n",
    "println(\"Current loss \", lossObj(Theta))\n",
    "\n",
    "for stp = 1:100\n",
    "    alpha = 0.05\n",
    "    der = deltaF(Theta)\n",
    "\n",
    "    newTheta = Theta - alpha * der\n",
    "    newTheta = adjust(newTheta)\n",
    "\n",
    "    if stp % 10 == 0\n",
    "        println(\"Loss after \", stp, \" steps: \", lossObj(newTheta))\n",
    "    end\n",
    "    \n",
    "    Theta = copy(newTheta)\n",
    "end"
   ]
  },
  {
   "cell_type": "markdown",
   "metadata": {
    "collapsed": true
   },
   "source": [
    "#### Let's test out the algorithm"
   ]
  },
  {
   "cell_type": "code",
   "execution_count": 12,
   "metadata": {
    "collapsed": false
   },
   "outputs": [],
   "source": [
    "curX = adjust(rand(d1,d2))\n",
    "lambda = 0.5\n",
    "lambda_k = 0.02\n",
    "\n",
    "LF = []\n",
    "\n",
    "for steps = 1:300\n",
    "    # first, go in the direction of F\n",
    "    interX = curX - lambda_k * deltaF(curX)\n",
    "    newX = prox(lambda * lambda_k, interX)\n",
    "    \n",
    "    if steps % 10 == 0\n",
    "#         println(\"f + g = \", lossObj(curX) + lambda * nucNorm(curX))\n",
    "#         println(\"f = \", lossObj(curX))\n",
    "#         println(\"g = \", lambda * nucNorm(curX))\n",
    "#         println(vecnorm(ThetaS - newX)^2)\n",
    "#         println()\n",
    "    end\n",
    "    \n",
    "    push!(LF, vecnorm(ThetaS - newX)^2)\n",
    "    \n",
    "    curX = copy(newX)\n",
    "end"
   ]
  },
  {
   "cell_type": "code",
   "execution_count": 13,
   "metadata": {
    "collapsed": false
   },
   "outputs": [
    {
     "data": {
      "image/png": "[encoded data removed]",
      "text/plain": [
       "PyPlot.Figure(PyObject <matplotlib.figure.Figure object at 0x320624c90>)"
      ]
     },
     "metadata": {},
     "output_type": "display_data"
    },
    {
     "data": {
      "text/plain": [
       "1-element Array{Any,1}:\n",
       " PyObject <matplotlib.lines.Line2D object at 0x32089b150>"
      ]
     },
     "execution_count": 13,
     "metadata": {},
     "output_type": "execute_result"
    }
   ],
   "source": [
    "using PyPlot\n",
    "\n",
    "# xkcd()\n",
    "plot(LF)"
   ]
  },
  {
   "cell_type": "code",
   "execution_count": null,
   "metadata": {
    "collapsed": true
   },
   "outputs": [],
   "source": []
  }
 ],
 "metadata": {
  "anaconda-cloud": {},
  "kernelspec": {
   "display_name": "Julia 0.5.0",
   "language": "julia",
   "name": "julia-0.5"
  },
  "language_info": {
   "file_extension": ".jl",
   "mimetype": "application/julia",
   "name": "julia",
   "version": "0.5.0"
  }
 },
 "nbformat": 4,
 "nbformat_minor": 1
}
