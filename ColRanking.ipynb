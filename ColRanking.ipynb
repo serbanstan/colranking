{
 "cells": [
  {
   "cell_type": "markdown",
   "metadata": {},
   "source": [
    "### Generating the dataset"
   ]
  },
  {
   "cell_type": "code",
   "execution_count": 1,
   "metadata": {
    "collapsed": true
   },
   "outputs": [],
   "source": [
    "using PyPlot"
   ]
  },
  {
   "cell_type": "code",
   "execution_count": 2,
   "metadata": {
    "collapsed": false
   },
   "outputs": [],
   "source": [
    "srand(1)\n",
    "\n",
    "# number of users\n",
    "d1 = 5;\n",
    "\n",
    "# number of items\n",
    "d2 = 7;\n",
    "\n",
    "# number of queries\n",
    "n = 100;"
   ]
  },
  {
   "cell_type": "code",
   "execution_count": 3,
   "metadata": {
    "collapsed": false
   },
   "outputs": [],
   "source": [
    "# generate the hidden ratings\n",
    "ThetaS = rand(d1,1) * rand(1,d2)\n",
    "\n",
    "# Need to have the sum of rows equaling 0\n",
    "for i = 1:d1\n",
    "    ThetaS[i,:] -= mean(ThetaS[i,:])\n",
    "end\n",
    "\n",
    "# Need to make the Frobenius norm <= 1\n",
    "ThetaS = ThetaS / vecnorm(ThetaS);"
   ]
  },
  {
   "cell_type": "code",
   "execution_count": 4,
   "metadata": {
    "collapsed": false
   },
   "outputs": [],
   "source": [
    "y = []\n",
    "X = []\n",
    "\n",
    "for i = 1:n\n",
    "    Xi = zeros(d1, d2)\n",
    "    \n",
    "    lin = rand(1:d1)\n",
    "    c1 = rand(1:d2)\n",
    "    c2 = rand(1:d2)\n",
    "    while c2 == c1\n",
    "        c2 = rand(1:d2)\n",
    "    end\n",
    "    \n",
    "    Xi[lin,c1] = 1\n",
    "    Xi[lin,c2] = -1\n",
    "    Xi = Xi * sqrt(d1 * d2)\n",
    "    \n",
    "    push!(X, Xi)\n",
    "    \n",
    "    if ThetaS[lin,c1] > ThetaS[lin,c2]\n",
    "        push!(y, 1)\n",
    "    else\n",
    "        push!(y, 0)\n",
    "    end\n",
    "end"
   ]
  },
  {
   "cell_type": "markdown",
   "metadata": {},
   "source": [
    "### Helper functions"
   ]
  },
  {
   "cell_type": "code",
   "execution_count": 5,
   "metadata": {
    "collapsed": false
   },
   "outputs": [
    {
     "data": {
      "text/plain": [
       "nucNorm (generic function with 1 method)"
      ]
     },
     "execution_count": 5,
     "metadata": {},
     "output_type": "execute_result"
    }
   ],
   "source": [
    "function nucNorm(A)\n",
    "    return sum(svd(A)[2])\n",
    "end"
   ]
  },
  {
   "cell_type": "code",
   "execution_count": 6,
   "metadata": {
    "collapsed": false
   },
   "outputs": [
    {
     "data": {
      "text/plain": [
       "adjust (generic function with 1 method)"
      ]
     },
     "execution_count": 6,
     "metadata": {},
     "output_type": "execute_result"
    }
   ],
   "source": [
    "# make sure the matrix's rows are centered\n",
    "\n",
    "function adjust(X)\n",
    "    ans = copy(X)\n",
    "    \n",
    "    for i = 1:size(X)[1]\n",
    "        ans[i,:] -= mean(ans[i,:])\n",
    "    end\n",
    "    \n",
    "    return ans\n",
    "end"
   ]
  },
  {
   "cell_type": "code",
   "execution_count": 7,
   "metadata": {
    "collapsed": false
   },
   "outputs": [
    {
     "data": {
      "text/plain": [
       "obj (generic function with 1 method)"
      ]
     },
     "execution_count": 7,
     "metadata": {},
     "output_type": "execute_result"
    }
   ],
   "source": [
    "# The objective function\n",
    "\n",
    "function obj(Theta)\n",
    "    ans = 0\n",
    "    \n",
    "    for i = 1:n\n",
    "        ans = ans + log(1 + e^(trace(Theta' * X[i]))) - y[i] * trace(Theta' * X[i])\n",
    "    end\n",
    "    \n",
    "    return ans / n\n",
    "end"
   ]
  },
  {
   "cell_type": "code",
   "execution_count": 8,
   "metadata": {
    "collapsed": false
   },
   "outputs": [
    {
     "data": {
      "text/plain": [
       "deltaF (generic function with 1 method)"
      ]
     },
     "execution_count": 8,
     "metadata": {},
     "output_type": "execute_result"
    }
   ],
   "source": [
    "# Compute the derivative of the objective loss\n",
    "\n",
    "function deltaF(Theta)\n",
    "    \n",
    "    ans = zeros(d1,d2)\n",
    "    \n",
    "    for i = 1:n\n",
    "        t1 = 1 / (1 + e^trace(Theta' * X[i]))\n",
    "        t2 = e^trace(Theta' * X[i]) * X[i]\n",
    "        t3 = y[i] * X[i]\n",
    "        \n",
    "        ans = ans + t1 * t2 - t3\n",
    "    end\n",
    "    \n",
    "    return ans / n\n",
    "    \n",
    "end"
   ]
  },
  {
   "cell_type": "code",
   "execution_count": 9,
   "metadata": {
    "collapsed": false
   },
   "outputs": [
    {
     "data": {
      "text/plain": [
       "checkKKT (generic function with 1 method)"
      ]
     },
     "execution_count": 9,
     "metadata": {},
     "output_type": "execute_result"
    }
   ],
   "source": [
    "function checkKKT(lamb, Theta)\n",
    "    tot = 0\n",
    "    \n",
    "    for i = 1:n\n",
    "        tot = tot + (e ^ trace(Theta' * X[i]) / (1 + e^trace(Theta' * X[i])) - y[i]) * X[i]\n",
    "    end\n",
    "    \n",
    "    tot = tot / n\n",
    "    \n",
    "    U,S,V = svd(Theta)\n",
    "    k = rank(Theta)\n",
    "    U = U[:,1:k]\n",
    "    V = V[:,1:k]\n",
    "    \n",
    "    tot = tot + lamb * U * V'\n",
    "    \n",
    "    tot = tot / lamb\n",
    "    \n",
    "    println(\"The norm is \", norm(tot))\n",
    "    \n",
    "    println(norm(U' * tot))\n",
    "    \n",
    "    println(norm(tot * V))\n",
    "    \n",
    "end"
   ]
  },
  {
   "cell_type": "code",
   "execution_count": 10,
   "metadata": {
    "collapsed": false
   },
   "outputs": [],
   "source": [
    "# # The proximal function\n",
    "# # return the matrix X that minimizes lambda * ||X||_nuc + 1/(2 lambda_k) || X - V ||_F^2\n",
    "# # equivalent to (lamda*lambda_k) ||X||_nuc + 1/2 || X - V ||_F^2\n",
    "\n",
    "# function prox(lambda, V)\n",
    "    \n",
    "#     ans = zeros(d1,d2)\n",
    "    \n",
    "#     _,S,_ = svd(V)\n",
    "#     S = max(S - lambda, 0)\n",
    "    \n",
    "#     for i = 1:length(S)\n",
    "#         ans[i,i] = S[i]\n",
    "#     end\n",
    "    \n",
    "#     return adjust(ans)\n",
    "    \n",
    "# end"
   ]
  },
  {
   "cell_type": "code",
   "execution_count": 11,
   "metadata": {
    "collapsed": false
   },
   "outputs": [
    {
     "data": {
      "text/plain": [
       "proxObj (generic function with 1 method)"
      ]
     },
     "execution_count": 11,
     "metadata": {},
     "output_type": "execute_result"
    }
   ],
   "source": [
    "# The proximal objective\n",
    "\n",
    "function proxObj(lambda, X, V)\n",
    "    return lambda * nucNorm(X) + 1 / 2 * norm(X - V)^2\n",
    "end"
   ]
  },
  {
   "cell_type": "code",
   "execution_count": 12,
   "metadata": {
    "collapsed": false
   },
   "outputs": [
    {
     "data": {
      "text/plain": [
       "prox (generic function with 1 method)"
      ]
     },
     "execution_count": 12,
     "metadata": {},
     "output_type": "execute_result"
    }
   ],
   "source": [
    "# The proximal function\n",
    "# return the matrix X that minimizes lambda * ||X||_nuc + 1/(2 lambda_k) || X - V ||_F^2\n",
    "# equivalent to (lamda * lambda_k) ||X||_nuc + 1/2 || X - V ||_F^2\n",
    "\n",
    "function prox(lambda, V)\n",
    "    \n",
    "    X = adjust(rand(d1,d2))\n",
    "    Xmin = copy(X)\n",
    "    \n",
    "    step = 0.1\n",
    "    eps = 1e-6\n",
    "    numSteps = 0\n",
    "    \n",
    "    while numSteps < 500\n",
    "        numSteps += 1\n",
    "    \n",
    "        # a subgradient of lambda * ||X||_nuc is AB' where X = ASB'\n",
    "        A,_,B = svd(X)\n",
    "        k = rank(X)\n",
    "        A = A[:,1:k]\n",
    "        B = B[:,1:k]\n",
    "\n",
    "        t1 = lambda * A * B'\n",
    "\n",
    "        # the derivative of 1 / 2 || X - V ||_2^2 is (X - V)\n",
    "        t2 = X - V\n",
    "        \n",
    "        newX = X - step * (t1 + t2)\n",
    "        newX = adjust(newX)\n",
    "        \n",
    "        if proxObj(lambda, newX, V) < eps\n",
    "            return newX\n",
    "        end\n",
    "        \n",
    "        if proxObj(lambda, newX, V) < proxObj(lambda, Xmin, V)\n",
    "            Xmin = copy(newX)\n",
    "        end\n",
    "        \n",
    "        X = copy(newX)\n",
    "    end\n",
    "    \n",
    "    return Xmin\n",
    "    \n",
    "end"
   ]
  },
  {
   "cell_type": "markdown",
   "metadata": {},
   "source": [
    "##### As a sanity check, make sure that our gradient steps indeed decreases obj loss"
   ]
  },
  {
   "cell_type": "code",
   "execution_count": 13,
   "metadata": {
    "collapsed": false
   },
   "outputs": [
    {
     "name": "stdout",
     "output_type": "stream",
     "text": [
      "Hidden loss 0.38468491507480984\n",
      "Current loss 1.477488622803941\n",
      "Loss after 30 steps: 0.5344807009453697\n",
      "Loss after 60 steps: 0.29609469251378856\n",
      "Loss after 90 steps: 0.21639328235346628\n",
      "Loss after 120 steps: 0.17462562616543487\n",
      "Loss after 150 steps: 0.14789816783268514\n"
     ]
    }
   ],
   "source": [
    "Theta = adjust(rand(d1,d2))\n",
    "\n",
    "println(\"Hidden loss \", obj(ThetaS))\n",
    "println(\"Current loss \", obj(Theta))\n",
    "\n",
    "for stp = 1:150\n",
    "    alpha = 0.05\n",
    "\n",
    "    newTheta = Theta - alpha * deltaF(Theta)\n",
    "    newTheta = adjust(newTheta)\n",
    "\n",
    "    if stp % 30 == 0\n",
    "        println(\"Loss after \", stp, \" steps: \", obj(newTheta))\n",
    "    end\n",
    "    \n",
    "    Theta = copy(newTheta)\n",
    "end"
   ]
  },
  {
   "cell_type": "markdown",
   "metadata": {
    "collapsed": true
   },
   "source": [
    "#### Let's test out the algorithm"
   ]
  },
  {
   "cell_type": "code",
   "execution_count": 19,
   "metadata": {
    "collapsed": false
   },
   "outputs": [
    {
     "name": "stdout",
     "output_type": "stream",
     "text": [
      "The norm is 1.7669662242161823\n",
      "1.7669662242161828\n",
      "1.7583816718567293\n",
      "\n",
      "The norm is 1.6801537743039607\n",
      "1.6801537743039607\n",
      "1.6676798036352616\n",
      "\n",
      "The norm is 1.546679127940773\n",
      "1.5466791279407734\n",
      "1.5466594922128483\n",
      "\n",
      "The norm is 1.3400336990014603\n",
      "1.34003369900146\n",
      "1.3386768994784533\n",
      "\n",
      "The norm is 1.2106863232262628\n",
      "1.210686323226263\n",
      "1.2106338236254623\n",
      "\n",
      "The norm is 1.1793408503189395\n",
      "1.1793408503189393\n",
      "1.179181262380618\n",
      "\n",
      "The norm is 1.1224302203507843\n",
      "1.1224302203507843\n",
      "1.1192280862739168\n",
      "\n",
      "The norm is 1.1627462844037877\n",
      "1.162746284403788\n",
      "1.1615676380787983\n",
      "\n",
      "The norm is 1.0722288954714445\n",
      "1.0722288954714438\n",
      "1.070079267554115\n",
      "\n",
      "The norm is 1.2271307228419779\n",
      "1.227130722841978\n",
      "1.2264442044577322\n",
      "\n",
      "f + g = 0.7333931478074408\n",
      "f = 0.6485978002450721\n",
      "g = 0.08479534756236869\n",
      "\n",
      "The norm is 1.1955459486063909\n",
      "1.1955459486063906\n",
      "1.1764319301416952\n",
      "\n",
      "The norm is 1.3155309534470025\n",
      "1.315530953447002\n",
      "1.303599423465735\n",
      "\n",
      "The norm is 1.0818075129604692\n",
      "1.0818075129604696\n",
      "1.078262980019419\n",
      "\n",
      "The norm is 1.083780865455125\n",
      "1.0837808654551255\n",
      "1.082332475481969\n",
      "\n",
      "The norm is 1.0365093970950325\n",
      "1.0365093970950325\n",
      "1.0359039055868444\n",
      "\n",
      "The norm is 1.1092292281876914\n",
      "1.1092292281876912\n",
      "1.1090045333706025\n",
      "\n",
      "The norm is 1.6985537174614151\n",
      "1.6985537174614156\n",
      "1.698467858272831\n",
      "\n",
      "The norm is 1.1109031869178663\n",
      "1.1109031869178667\n",
      "1.1080681646937607\n",
      "\n",
      "The norm is 1.0876155051848713\n",
      "1.087615505184871\n",
      "1.0870605723607576\n",
      "\n",
      "The norm is 1.1609573345192792\n",
      "1.160957334519279\n",
      "1.1608452518940278\n",
      "\n",
      "f + g = 0.7082745611017277\n",
      "f = 0.6906066826475317\n",
      "g = 0.01766787845419608\n",
      "\n",
      "The norm is 1.158803485408879\n",
      "1.1588034854088793\n",
      "1.1187395139148133\n",
      "\n",
      "The norm is 1.118933543602953\n",
      "1.1189335436029542\n",
      "1.1143596760186418\n",
      "\n",
      "The norm is 1.0861058438748443\n",
      "1.0861058438748448\n",
      "1.0815106571139548\n",
      "\n",
      "The norm is 1.1242689819985023\n",
      "1.1242689819985017\n",
      "1.0625703158365458\n",
      "\n",
      "The norm is 1.0231030791628017\n",
      "1.0231030791628009\n",
      "1.0224999376721495\n",
      "\n",
      "The norm is 1.1006793044061953\n",
      "1.1006793044061958\n",
      "1.097527605403496\n",
      "\n",
      "The norm is 1.0402805533640906\n",
      "1.0402805533640904\n",
      "1.0392485387823325\n",
      "\n",
      "The norm is 1.17025613741498\n",
      "1.1702561374149807\n",
      "1.144365174094872\n",
      "\n",
      "The norm is 1.0744518657969526\n",
      "1.0744518657969528\n",
      "1.0744380617945706\n",
      "\n",
      "The norm is 1.1541705454572544\n",
      "1.1541705454572544\n",
      "1.1515993570558107\n",
      "\n",
      "f + g = 0.7103069011508146\n",
      "f = 0.6919599340172742\n",
      "g = 0.018346967133540403\n",
      "\n",
      "The norm is 1.366183291082762\n",
      "1.3661832910827616\n",
      "1.3658455393961224\n",
      "\n",
      "The norm is 1.1577795237527804\n",
      "1.1577795237527806\n",
      "1.1575784317105933\n",
      "\n",
      "The norm is 1.078254789227626\n",
      "1.078254789227626\n",
      "1.0618478069263797\n",
      "\n",
      "The norm is 1.138545374169321\n",
      "1.1385453741693217\n",
      "1.1330052307258707\n",
      "\n",
      "The norm is 1.076832421252613\n",
      "1.0768324212526124\n",
      "1.0721892415647478\n",
      "\n",
      "The norm is 1.0681539130192599\n",
      "1.0681539130192592\n",
      "1.0574844395598857\n",
      "\n",
      "The norm is 1.1420878844795408\n",
      "1.1420878844795408\n",
      "1.1419480932459944\n",
      "\n",
      "The norm is 1.1958458846974178\n",
      "1.1958458846974183\n",
      "1.179807026859463\n",
      "\n",
      "The norm is 1.3665325601686342\n",
      "1.3665325601686344\n",
      "1.3659059935052922\n",
      "\n",
      "The norm is 1.2775930531091972\n",
      "1.277593053109197\n",
      "1.2742899016619436\n",
      "\n",
      "f + g = 0.7074888109955083\n",
      "f = 0.6897912264740883\n",
      "g = 0.01769758452142001\n",
      "\n",
      "The norm is 1.0536715373330472\n",
      "1.053671537333047\n",
      "1.0528542763378645\n",
      "\n",
      "The norm is 1.130239044265759\n",
      "1.130239044265759\n",
      "1.1272911900582707\n",
      "\n",
      "The norm is 1.2472159465128623\n",
      "1.2472159465128623\n",
      "1.2334483064344492\n",
      "\n",
      "The norm is 1.0461732990419441\n",
      "1.0461732990419446\n",
      "1.043793354695958\n",
      "\n",
      "The norm is 1.120137233002611\n",
      "1.120137233002611\n",
      "1.1200681974075934\n",
      "\n",
      "The norm is 1.2455453388296616\n",
      "1.2455453388296618\n",
      "1.245510410378806\n",
      "\n",
      "The norm is 1.2885436258257537\n",
      "1.288543625825753\n",
      "1.281374796993984\n",
      "\n",
      "The norm is 1.684340412477777\n",
      "1.684340412477777\n",
      "1.6808790587296958\n",
      "\n",
      "The norm is 1.6436687202247375\n",
      "1.6436687202247378\n",
      "1.6088558054446431\n",
      "\n",
      "The norm is 1.1524306792461283\n",
      "1.1524306792461283\n",
      "1.1504012335867302\n",
      "\n",
      "f + g = 0.7095252946982439\n",
      "f = 0.6926169614533961\n",
      "g = 0.016908333244847733\n",
      "\n",
      "The norm is 1.0310922491917396\n",
      "1.0310922491917396\n",
      "1.0305057633672503\n",
      "\n",
      "The norm is 1.2257913014478565\n",
      "1.2257913014478563\n",
      "1.2239711535775617\n",
      "\n",
      "The norm is 1.1173798512892235\n",
      "1.1173798512892237\n",
      "1.1154891860993128\n",
      "\n",
      "The norm is 1.1123439382846272\n",
      "1.112343938284627\n",
      "1.1115556021780522\n",
      "\n",
      "The norm is 1.1690264686266936\n",
      "1.1690264686266931\n",
      "1.168858677610544\n",
      "\n",
      "The norm is 1.0985855578249955\n",
      "1.098585557824996\n",
      "1.0881900383064624\n",
      "\n",
      "The norm is 0.9976855977255525\n",
      "0.9976855977255521\n",
      "0.9958849403239024\n",
      "\n",
      "The norm is 1.0662240108545487\n",
      "1.0662240108545489\n",
      "1.0658042527044629\n",
      "\n",
      "The norm is 1.7002056465223463\n",
      "1.7002056465223463\n",
      "1.6998881153088115\n",
      "\n",
      "The norm is 1.2174388071583837\n",
      "1.2174388071583833\n",
      "1.182209134684691\n",
      "\n",
      "f + g = 0.7087615128742158\n",
      "f = 0.6934324703137598\n",
      "g = 0.015329042560456056\n",
      "\n",
      "The norm is 1.0439097491128182\n",
      "1.043909749112818\n",
      "1.027241622194129\n",
      "\n",
      "The norm is 1.117890333557585\n",
      "1.1178903335575858\n",
      "1.1178298615921627\n",
      "\n",
      "The norm is 1.0508879732325778\n",
      "1.0508879732325778\n",
      "1.0496252211932673\n",
      "\n",
      "The norm is 1.6268772479580509\n",
      "1.6268772479580509\n",
      "1.624987892707444\n",
      "\n",
      "The norm is 1.2148958915929047\n",
      "1.214895891592905\n",
      "1.1971476837554484\n",
      "\n",
      "The norm is 1.6913333566935176\n",
      "1.6913333566935174\n",
      "1.6912478682679393\n",
      "\n",
      "The norm is 1.133808588464056\n",
      "1.133808588464056\n",
      "1.1333880552459106\n",
      "\n",
      "The norm is 1.220545798702492\n",
      "1.2205457987024917\n",
      "1.2193828764110801\n",
      "\n",
      "The norm is 1.1336497562144086\n",
      "1.1336497562144086\n",
      "1.1199184471042116\n",
      "\n",
      "The norm is 1.0681861268587378\n",
      "1.0681861268587376\n",
      "1.0619419697876376\n",
      "\n",
      "f + g = 0.7095623052944486\n",
      "f = 0.6892769628691221\n",
      "g = 0.020285342425326498\n",
      "\n",
      "The norm is 1.3142778497053744\n",
      "1.314277849705374\n",
      "1.2063495910453266\n",
      "\n",
      "The norm is 0.9987594490219618\n",
      "0.9987594490219617\n",
      "0.9979846376369217\n",
      "\n",
      "The norm is 1.1383383678843522\n",
      "1.1383383678843522\n",
      "1.138069728159786\n",
      "\n",
      "The norm is 1.294484845743704\n",
      "1.2944848457437035\n",
      "1.2877945224122271\n",
      "\n",
      "The norm is 1.0959664751652716\n",
      "1.0959664751652722\n",
      "1.0958794327423131\n",
      "\n",
      "The norm is 1.1276849797308048\n",
      "1.1276849797308046\n",
      "1.1236010525845546\n",
      "\n",
      "The norm is 1.0941992428858132\n",
      "1.0941992428858132\n",
      "1.0933369749463082\n",
      "\n",
      "The norm is 1.0765049361610697\n",
      "1.07650493616107\n",
      "1.0738414247700683\n",
      "\n",
      "The norm is 1.1013228296303161\n",
      "1.1013228296303164\n",
      "1.0993570755324937\n",
      "\n",
      "The norm is 1.1546404590333088\n",
      "1.1546404590333097\n",
      "1.1545125219601307\n",
      "\n",
      "f + g = 0.7084358583701217\n",
      "f = 0.690794976376088\n",
      "g = 0.017640881994033675\n",
      "\n",
      "The norm is 1.169434024032014\n",
      "1.1694340240320142\n",
      "1.1667123123878274\n",
      "\n",
      "The norm is 1.1397204268838286\n",
      "1.1397204268838286\n",
      "1.1351686928033329\n",
      "\n",
      "The norm is 1.1137817833019459\n",
      "1.1137817833019465\n",
      "1.0933444112177066\n",
      "\n",
      "The norm is 1.1136881640613916\n",
      "1.113688164061391\n",
      "1.1133089201582647\n",
      "\n",
      "The norm is 1.1834417427409283\n",
      "1.1834417427409276\n",
      "1.1682581262516762\n",
      "\n",
      "The norm is 1.2041851283810028\n",
      "1.2041851283810032\n",
      "1.201266617705787\n",
      "\n",
      "The norm is 1.1087845419435072\n",
      "1.1087845419435074\n",
      "1.108754832096107\n",
      "\n",
      "The norm is 1.2879805031854155\n",
      "1.2879805031854152\n",
      "1.2863681080280551\n",
      "\n",
      "The norm is 1.1120402865887322\n",
      "1.1120402865887327\n",
      "1.1091936916721\n",
      "\n",
      "The norm is 1.4502590203292358\n",
      "1.4502590203292351\n",
      "1.3226241835509047\n",
      "\n",
      "f + g = 0.7066867261532158\n",
      "f = 0.6912336486740817\n",
      "g = 0.015453077479134133\n",
      "\n",
      "The norm is 1.2138219557105288\n",
      "1.2138219557105292\n",
      "1.2075870904179247\n",
      "\n",
      "The norm is 1.0741968499055603\n",
      "1.07419684990556\n",
      "1.0689761168297942\n",
      "\n",
      "The norm is 1.1128406982400154\n",
      "1.1128406982400154\n",
      "1.1108401237600616\n",
      "\n",
      "The norm is 1.2607105456148973\n",
      "1.2607105456148973\n",
      "1.2564915106436814\n",
      "\n",
      "The norm is 1.235491550434624\n",
      "1.2354915504346244\n",
      "1.2259760086507114\n",
      "\n",
      "The norm is 1.1527873383703169\n",
      "1.1527873383703169\n",
      "1.1474015013147185\n",
      "\n",
      "The norm is 1.1071437423056312\n",
      "1.1071437423056307\n",
      "1.1070320433138716\n",
      "\n",
      "The norm is 1.1511493326084041\n",
      "1.1511493326084037\n",
      "1.1502006249008745\n",
      "\n",
      "The norm is 1.089523107160158\n",
      "1.089523107160158\n",
      "1.0688197697546664\n",
      "\n",
      "The norm is 1.0861939180686613\n",
      "1.086193918068661\n",
      "1.0861750808129638\n",
      "\n",
      "f + g = 0.7062001884913062\n",
      "f = 0.6912130810086355\n",
      "g = 0.014987107482670674\n",
      "\n"
     ]
    }
   ],
   "source": [
    "curTheta = adjust(rand(d1,d2))\n",
    "lambda = 0.95   # the regularization parameter\n",
    "lambda_k = .1   # the step size\n",
    "\n",
    "LF = []\n",
    "objVal = []\n",
    "\n",
    "for steps = 1:100\n",
    "    # first, go in the direction of f\n",
    "    V = curTheta - lambda_k * deltaF(curTheta)\n",
    "    newTheta = prox(lambda * lambda_k, V)\n",
    "#     newTheta = adjust(V)\n",
    "    \n",
    "    checkKKT(lambda, newTheta)\n",
    "    println()\n",
    "    \n",
    "    if steps % 10 == 0\n",
    "        println(\"f + g = \", obj(curTheta) + lambda * nucNorm(curTheta))\n",
    "        println(\"f = \", obj(curTheta))\n",
    "        println(\"g = \", lambda * nucNorm(curTheta))\n",
    "        println()\n",
    "    end\n",
    "    \n",
    "    push!(objVal, obj(newTheta) + lambda * nucNorm(newTheta))\n",
    "    push!(LF, vecnorm(ThetaS - newTheta/vecnorm(newTheta))^2)\n",
    "    \n",
    "    curTheta = copy(newTheta)\n",
    "end"
   ]
  },
  {
   "cell_type": "code",
   "execution_count": 20,
   "metadata": {
    "collapsed": false
   },
   "outputs": [
    {
     "data": {
      "image/png": "[encoded data removed]",
      "text/plain": [
       "PyPlot.Figure(PyObject <matplotlib.figure.Figure object at 0x31b47db90>)"
      ]
     },
     "metadata": {},
     "output_type": "display_data"
    },
    {
     "data": {
      "text/plain": [
       "1-element Array{Any,1}:\n",
       " PyObject <matplotlib.lines.Line2D object at 0x31b513c10>"
      ]
     },
     "execution_count": 20,
     "metadata": {},
     "output_type": "execute_result"
    }
   ],
   "source": [
    "# plotting the objective \n",
    "plot(objVal)"
   ]
  },
  {
   "cell_type": "code",
   "execution_count": 21,
   "metadata": {
    "collapsed": false
   },
   "outputs": [
    {
     "data": {
      "image/png": "[encoded data removed]",
      "text/plain": [
       "PyPlot.Figure(PyObject <matplotlib.figure.Figure object at 0x31b4d54d0>)"
      ]
     },
     "metadata": {},
     "output_type": "display_data"
    },
    {
     "data": {
      "text/plain": [
       "1-element Array{Any,1}:\n",
       " PyObject <matplotlib.lines.Line2D object at 0x31b6099d0>"
      ]
     },
     "execution_count": 21,
     "metadata": {},
     "output_type": "execute_result"
    }
   ],
   "source": [
    "# plotting the loss function\n",
    "plot(LF)"
   ]
  },
  {
   "cell_type": "code",
   "execution_count": null,
   "metadata": {
    "collapsed": true
   },
   "outputs": [],
   "source": []
  },
  {
   "cell_type": "code",
   "execution_count": null,
   "metadata": {
    "collapsed": true
   },
   "outputs": [],
   "source": []
  },
  {
   "cell_type": "code",
   "execution_count": 17,
   "metadata": {
    "collapsed": true
   },
   "outputs": [],
   "source": [
    "# Q1: What does y = 0 give us in terms of information?"
   ]
  }
 ],
 "metadata": {
  "anaconda-cloud": {},
  "kernelspec": {
   "display_name": "Julia 0.5.0",
   "language": "julia",
   "name": "julia-0.5"
  },
  "language_info": {
   "file_extension": ".jl",
   "mimetype": "application/julia",
   "name": "julia",
   "version": "0.5.0"
  }
 },
 "nbformat": 4,
 "nbformat_minor": 1
}
