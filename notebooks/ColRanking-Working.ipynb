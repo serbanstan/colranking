{
 "cells": [
  {
   "cell_type": "markdown",
   "metadata": {},
   "source": [
    "### Generating the dataset"
   ]
  },
  {
   "cell_type": "code",
   "execution_count": 1,
   "metadata": {
    "collapsed": false
   },
   "outputs": [],
   "source": [
    "using PyPlot"
   ]
  },
  {
   "cell_type": "code",
   "execution_count": 2,
   "metadata": {
    "collapsed": false
   },
   "outputs": [],
   "source": [
    "# 40, 60, 5000\n",
    "# 90, 110, 20000\n",
    "\n",
    "srand(1)\n",
    "\n",
    "# number of users\n",
    "d1 = 90;\n",
    "\n",
    "# number of items\n",
    "d2 = 110;\n",
    "\n",
    "# number of observations\n",
    "n = 20000;"
   ]
  },
  {
   "cell_type": "code",
   "execution_count": 3,
   "metadata": {
    "collapsed": false
   },
   "outputs": [],
   "source": [
    "# generate the hidden ratings\n",
    "ThetaS = rand(d1,4) * rand(4,d2)\n",
    "\n",
    "# Need to have the sum of rows equaling 0\n",
    "for i = 1:d1\n",
    "    ThetaS[i,:] -= mean(ThetaS[i,:])\n",
    "end\n",
    "\n",
    "# Need to make the Frobenius norm <= 1\n",
    "ThetaS = ThetaS / vecnorm(ThetaS);"
   ]
  },
  {
   "cell_type": "code",
   "execution_count": 4,
   "metadata": {
    "collapsed": false
   },
   "outputs": [],
   "source": [
    "y = []\n",
    "X = []\n",
    "\n",
    "for i = 1:n\n",
    "    Xi = zeros(d1, d2)\n",
    "    \n",
    "    lin = rand(1:d1)\n",
    "    c1 = rand(1:d2)\n",
    "    c2 = rand(1:d2)\n",
    "    while c2 == c1\n",
    "        c2 = rand(1:d2)\n",
    "    end\n",
    "    \n",
    "    Xi[lin,c1] = 1\n",
    "    Xi[lin,c2] = -1\n",
    "    Xi = Xi * sqrt(d1 * d2)\n",
    "    \n",
    "    push!(X, Xi)\n",
    "    \n",
    "    if ThetaS[lin,c1] > ThetaS[lin,c2]\n",
    "        push!(y, 1)\n",
    "    else\n",
    "        push!(y, 0)\n",
    "    end\n",
    "end"
   ]
  },
  {
   "cell_type": "markdown",
   "metadata": {},
   "source": [
    "### Helper functions"
   ]
  },
  {
   "cell_type": "code",
   "execution_count": 5,
   "metadata": {
    "collapsed": false
   },
   "outputs": [
    {
     "data": {
      "text/plain": [
       "nucNorm (generic function with 1 method)"
      ]
     },
     "execution_count": 5,
     "metadata": {},
     "output_type": "execute_result"
    }
   ],
   "source": [
    "function nucNorm(A)\n",
    "    return sum(svd(A)[2])\n",
    "end"
   ]
  },
  {
   "cell_type": "code",
   "execution_count": 6,
   "metadata": {
    "collapsed": false
   },
   "outputs": [
    {
     "data": {
      "text/plain": [
       "adjust (generic function with 1 method)"
      ]
     },
     "execution_count": 6,
     "metadata": {},
     "output_type": "execute_result"
    }
   ],
   "source": [
    "# make sure the matrix's rows are centered\n",
    "\n",
    "function adjust(X)\n",
    "    ans = copy(X)\n",
    "    \n",
    "    for i = 1:size(X)[1]\n",
    "        ans[i,:] -= mean(ans[i,:])\n",
    "    end\n",
    "    \n",
    "    return ans\n",
    "end"
   ]
  },
  {
   "cell_type": "code",
   "execution_count": 7,
   "metadata": {
    "collapsed": false
   },
   "outputs": [
    {
     "data": {
      "text/plain": [
       "obj (generic function with 1 method)"
      ]
     },
     "execution_count": 7,
     "metadata": {},
     "output_type": "execute_result"
    }
   ],
   "source": [
    "# The objective function\n",
    "\n",
    "function obj(Theta, ns)\n",
    "    ans = 0\n",
    "    \n",
    "    for i = 1:ns\n",
    "        ans = ans + log(1 + e^(trace(Theta' * X[i]))) - y[i] * trace(Theta' * X[i])\n",
    "    end\n",
    "    \n",
    "    return ans / ns\n",
    "end"
   ]
  },
  {
   "cell_type": "code",
   "execution_count": 8,
   "metadata": {
    "collapsed": false
   },
   "outputs": [
    {
     "data": {
      "text/plain": [
       "deltaF (generic function with 1 method)"
      ]
     },
     "execution_count": 8,
     "metadata": {},
     "output_type": "execute_result"
    }
   ],
   "source": [
    "# Compute the derivative of the objective loss\n",
    "# Theta is our current guess\n",
    "# numSamples represents the number of X's we are considering\n",
    "\n",
    "function deltaF(Theta, ns)\n",
    "    \n",
    "    ans = zeros(d1,d2)\n",
    "    \n",
    "    for i = 1:ns\n",
    "        t = e^trace(Theta' * X[i])\n",
    "        ans = ans + (t / (1 + t) - y[i]) * X[i]\n",
    "    end\n",
    "    \n",
    "    return ans / ns\n",
    "    \n",
    "end"
   ]
  },
  {
   "cell_type": "code",
   "execution_count": 9,
   "metadata": {
    "collapsed": false
   },
   "outputs": [
    {
     "data": {
      "text/plain": [
       "prox (generic function with 1 method)"
      ]
     },
     "execution_count": 9,
     "metadata": {},
     "output_type": "execute_result"
    }
   ],
   "source": [
    "# The proximal function\n",
    "# return the matrix X that minimizes lambda * ||X||_nuc + 1/(2 lambda_k) || X - V ||_F^2\n",
    "# equivalent to (lamda*lambda_k) ||X||_nuc + 1/2 || X - V ||_F^2\n",
    "\n",
    "function prox(lambda, V)\n",
    "    \n",
    "    A,S,B = svd(V)\n",
    "    S = max(S - lambda, 0)\n",
    "    \n",
    "    return adjust(A * diagm(S) * B')\n",
    "    \n",
    "end"
   ]
  },
  {
   "cell_type": "code",
   "execution_count": 10,
   "metadata": {
    "collapsed": false
   },
   "outputs": [
    {
     "data": {
      "text/plain": [
       "checkKKT (generic function with 1 method)"
      ]
     },
     "execution_count": 10,
     "metadata": {},
     "output_type": "execute_result"
    }
   ],
   "source": [
    "function checkKKT(lamb, Theta, ns)\n",
    "    println(\"Checking KKT conditions\")\n",
    "    \n",
    "    tot = 0\n",
    "    \n",
    "    for i = 1:ns\n",
    "        tot = tot + (e ^ trace(Theta' * X[i]) / (1 + e ^ trace(Theta' * X[i])) - y[i]) * X[i]\n",
    "    end\n",
    "    \n",
    "    tot = tot / ns\n",
    "    \n",
    "    U,S,V = svd(Theta)\n",
    "    k = rank(Theta)\n",
    "    U = U[:,1:k]\n",
    "    V = V[:,1:k]\n",
    "    \n",
    "    tot = tot + lamb * U * V'\n",
    "    \n",
    "    println(\"norm = \", norm(tot), \"    lambda = \", lamb)\n",
    "#     if norm(tot) <= lambda\n",
    "#         println(\"GOOD - the norm is smaller than lambda\")\n",
    "#     else\n",
    "#         println(\"OOPS - the norm is greater than lambda\")\n",
    "#     end\n",
    "    \n",
    "    println(norm(U' * tot))\n",
    "    \n",
    "    println(norm(tot * V))\n",
    "    \n",
    "end"
   ]
  },
  {
   "cell_type": "markdown",
   "metadata": {},
   "source": [
    "##### As a sanity check, make sure that our gradient steps indeed decreases obj loss"
   ]
  },
  {
   "cell_type": "code",
   "execution_count": 11,
   "metadata": {
    "collapsed": false
   },
   "outputs": [
    {
     "name": "stdout",
     "output_type": "stream",
     "text": [
      "Hidden loss 0.34539328615906184\n",
      "Current loss 16.390080659662477\n",
      "Loss after 1 steps: 15.269881105413946\n",
      "Loss after 2 steps: 14.21346238406941\n",
      "Loss after 3 steps: 13.216513892862105\n",
      "Loss after 4 steps: 12.276724857268947\n",
      "Loss after 5 steps: 11.392371802710336\n"
     ]
    }
   ],
   "source": [
    "Theta = adjust(rand(d1,d2))\n",
    "\n",
    "println(\"Hidden loss \", obj(ThetaS, n))\n",
    "println(\"Current loss \", obj(Theta, n))\n",
    "\n",
    "for stp = 1:5\n",
    "    alpha = 1.0\n",
    "\n",
    "    newTheta = Theta - alpha * deltaF(Theta, n)\n",
    "    newTheta = adjust(newTheta)\n",
    "\n",
    "    println(\"Loss after \", stp, \" steps: \", obj(newTheta, n))\n",
    "    \n",
    "    Theta = copy(newTheta)\n",
    "end"
   ]
  },
  {
   "cell_type": "markdown",
   "metadata": {},
   "source": [
    "#### We'll pick a specific number of samples in terms of n"
   ]
  },
  {
   "cell_type": "code",
   "execution_count": 12,
   "metadata": {
    "collapsed": true
   },
   "outputs": [],
   "source": [
    "numSamples = []\n",
    "for den = [3,2,1.5,1]\n",
    "    push!(numSamples, convert(Int64, floor(n / den)))\n",
    "end"
   ]
  },
  {
   "cell_type": "markdown",
   "metadata": {
    "collapsed": true
   },
   "source": [
    "#### Let's test out the algorithm"
   ]
  },
  {
   "cell_type": "code",
   "execution_count": 13,
   "metadata": {
    "collapsed": false
   },
   "outputs": [
    {
     "name": "stdout",
     "output_type": "stream",
     "text": [
      "working with 6666 samples\n",
      "at iteration 25\n",
      "at iteration 50\n",
      "at iteration 75\n",
      "at iteration 100\n",
      "at iteration 125\n",
      "at iteration 150\n",
      "at iteration 175\n",
      "at iteration 200\n",
      "f + g = 0.47136307453215864\n",
      "f = 0.33163106187720987\n",
      "g = 0.13973201265494875\n",
      "Loss = 0.1394748921465302\n",
      "\n",
      "Checking KKT conditions\n",
      "norm = 0.09372552980210323    lambda = 0.1\n",
      "0.061112475641106986\n",
      "0.061029231403295955\n",
      "\n",
      "157.148664 seconds (21.72 M allocations: 322.432 GB, 17.99% gc time)\n",
      "\n",
      "\n",
      "working with 10000 samples\n",
      "at iteration 25\n",
      "at iteration 50\n",
      "at iteration 75\n",
      "at iteration 100\n",
      "at iteration 125\n",
      "at iteration 150\n",
      "at iteration 175\n",
      "at iteration 200\n",
      "f + g = 0.4724208574286646\n",
      "f = 0.3387035275160605\n",
      "g = 0.13371732991260413\n",
      "Loss = 0.13187160478819587\n",
      "\n",
      "Checking KKT conditions\n",
      "norm = 0.08517241142901333    lambda = 0.1\n",
      "0.059461866454735356\n",
      "0.05939053951658015\n",
      "\n",
      "292.457799 seconds (32.35 M allocations: 483.532 GB, 26.66% gc time)\n",
      "\n",
      "\n",
      "working with 13333 samples\n",
      "at iteration 25\n",
      "at iteration 50\n",
      "at iteration 75\n",
      "at iteration 100\n",
      "at iteration 125\n",
      "at iteration 150\n",
      "at iteration 175\n",
      "at iteration 200\n",
      "f + g = 0.4759124125955918\n",
      "f = 0.3415800158758381\n",
      "g = 0.13433239671975372\n",
      "Loss = 0.1182089801594727\n",
      "\n",
      "Checking KKT conditions\n",
      "norm = 0.07294336382672259    lambda = 0.1\n",
      "0.05920871662683782\n",
      "0.05916579601915568\n",
      "\n",
      "334.483023 seconds (43.21 M allocations: 644.592 GB, 20.89% gc time)\n",
      "\n",
      "\n",
      "working with 20000 samples\n",
      "at iteration 25\n",
      "at iteration 50\n",
      "at iteration 75\n",
      "at iteration 100\n",
      "at iteration 125\n",
      "at iteration 150\n",
      "at iteration 175\n",
      "at iteration 200\n",
      "f + g = 0.4774213999952174\n",
      "f = 0.34590821733953336\n",
      "g = 0.131513182655684\n",
      "Loss = 0.11630192793708263\n",
      "\n",
      "Checking KKT conditions\n",
      "norm = 0.05975539706338777    lambda = 0.1\n",
      "0.059385469784592006\n",
      "0.059382777637723996\n",
      "\n",
      "359.938794 seconds (64.91 M allocations: 966.762 GB, 10.06% gc time)\n",
      "\n",
      "\n",
      "1144.055919 seconds (162.20 M allocations: 2.361 TB, 18.56% gc time)\n"
     ]
    }
   ],
   "source": [
    "overallLF = []\n",
    "\n",
    "@time for ns = numSamples\n",
    "    LF = []\n",
    "    \n",
    "    println(\"working with \", ns, \" samples\")\n",
    "    \n",
    "    curTheta = zeros(d1,d2)\n",
    "    lambda = 0.1   # the regularization parameter\n",
    "    lambda_k = .05   # the step size\n",
    "    \n",
    "    maxit = 200\n",
    "    @time for steps = 1:maxit\n",
    "        lambda_k = lambda_k - 0.04 / maxit\n",
    "        \n",
    "        # first, go in the direction of f\n",
    "        V = curTheta - lambda_k * deltaF(curTheta, ns)\n",
    "        \n",
    "        # now, perform the proximal step\n",
    "        newTheta = prox(lambda * lambda_k, V)\n",
    "\n",
    "        # some information about runs\n",
    "        if steps % 25 == 0 || steps == maxit\n",
    "            println(\"at iteration \", steps)\n",
    "            \n",
    "            if steps == maxit\n",
    "                println(\"f + g = \", obj(curTheta, ns) + lambda * nucNorm(curTheta))\n",
    "                println(\"f = \", obj(curTheta, ns))\n",
    "                println(\"g = \", lambda * nucNorm(curTheta))\n",
    "                println(\"Loss = \", vecnorm(ThetaS - newTheta)^2)\n",
    "                println()\n",
    "                checkKKT(lambda, newTheta, ns)\n",
    "                println()\n",
    "            end\n",
    "        end\n",
    "\n",
    "        # update the loss array\n",
    "        push!(LF, vecnorm(ThetaS - newTheta)^2)\n",
    "        \n",
    "        # if I hit the max number of steps, stop anyway\n",
    "        if steps == maxit\n",
    "            push!(overallLF, vecnorm(ThetaS - newTheta)^2)\n",
    "        end\n",
    "        \n",
    "        # update Theta for the next iteration\n",
    "        curTheta = copy(newTheta)\n",
    "    end\n",
    "    \n",
    "#     dims = convert(Int64, (d1+d2)/2)\n",
    "#     filename = string(\"./data/\", dims, \"-\", ns, \".txt\")\n",
    "#     writedlm(filename, LF)\n",
    "    \n",
    "    println()\n",
    "    println()\n",
    "end"
   ]
  },
  {
   "cell_type": "code",
   "execution_count": 14,
   "metadata": {
    "collapsed": false
   },
   "outputs": [],
   "source": [
    "# writedlm(string(\"./data/\", convert(Int64, (d1+d2)/2), \"-final.txt\"), overallLF)"
   ]
  },
  {
   "cell_type": "code",
   "execution_count": 15,
   "metadata": {
    "collapsed": false
   },
   "outputs": [
    {
     "data": {
      "image/png": "[encoded data removed]",
      "text/plain": [
       "PyPlot.Figure(PyObject <matplotlib.figure.Figure object at 0x31d8f3290>)"
      ]
     },
     "metadata": {},
     "output_type": "display_data"
    },
    {
     "data": {
      "text/plain": [
       "PyObject <matplotlib.text.Text object at 0x323bba250>"
      ]
     },
     "execution_count": 15,
     "metadata": {},
     "output_type": "execute_result"
    }
   ],
   "source": [
    "# plotting the loss function\n",
    "plot(numSamples, overallLF)\n",
    "xlabel(\"Number of observations\")\n",
    "ylabel(\"Loss\")"
   ]
  },
  {
   "cell_type": "code",
   "execution_count": 16,
   "metadata": {
    "collapsed": false
   },
   "outputs": [],
   "source": [
    "# newLF = []\n",
    "# for i = 1:length(LF)\n",
    "#     push!(newLF, log(LF[i]))\n",
    "# end\n",
    "\n",
    "# plot(newLF)"
   ]
  },
  {
   "cell_type": "code",
   "execution_count": 17,
   "metadata": {
    "collapsed": false
   },
   "outputs": [],
   "source": [
    "# writedlm(\"./data/t.txt\", LF)"
   ]
  },
  {
   "cell_type": "code",
   "execution_count": 18,
   "metadata": {
    "collapsed": false
   },
   "outputs": [
    {
     "data": {
      "text/plain": [
       "4-element Array{Any,1}:\n",
       " 0.139475\n",
       " 0.131872\n",
       " 0.118209\n",
       " 0.116302"
      ]
     },
     "execution_count": 18,
     "metadata": {},
     "output_type": "execute_result"
    }
   ],
   "source": [
    "overallLF"
   ]
  },
  {
   "cell_type": "code",
   "execution_count": null,
   "metadata": {
    "collapsed": true
   },
   "outputs": [],
   "source": []
  }
 ],
 "metadata": {
  "anaconda-cloud": {},
  "kernelspec": {
   "display_name": "Julia 0.5.0",
   "language": "julia",
   "name": "julia-0.5"
  },
  "language_info": {
   "file_extension": ".jl",
   "mimetype": "application/julia",
   "name": "julia",
   "version": "0.5.0"
  }
 },
 "nbformat": 4,
 "nbformat_minor": 1
}
